{
 "cells": [
  {
   "cell_type": "code",
   "execution_count": 1,
   "metadata": {},
   "outputs": [],
   "source": [
    "import jax.numpy as jnp\n",
    "import hj_reachability as hj\n",
    "import jax\n",
    "from torch2jax import j2t, t2j"
   ]
  },
  {
   "cell_type": "code",
   "execution_count": 2,
   "metadata": {},
   "outputs": [],
   "source": [
    "from dynamics.dynamics_hjr import Quad2DAttitude as Quad2DAttitude_hjr"
   ]
  },
  {
   "cell_type": "code",
   "execution_count": 3,
   "metadata": {},
   "outputs": [],
   "source": [
    "from dynamics.dynamics import Quad2DAttitude"
   ]
  },
  {
   "cell_type": "code",
   "execution_count": 4,
   "metadata": {},
   "outputs": [
    {
     "name": "stderr",
     "output_type": "stream",
     "text": [
      "/home/sander/dev/deepreach/utils/boundary_functions.py:49: UserWarning: To copy construct from a tensor, it is recommended to use sourceTensor.clone().detach() or sourceTensor.clone().detach().requires_grad_(True), rather than torch.tensor(sourceTensor).\n",
      "  self.min_val = torch.tensor(min_val).to(device)[torch.newaxis]\n",
      "/home/sander/dev/deepreach/utils/boundary_functions.py:50: UserWarning: To copy construct from a tensor, it is recommended to use sourceTensor.clone().detach() or sourceTensor.clone().detach().requires_grad_(True), rather than torch.tensor(sourceTensor).\n",
      "  self.max_val = torch.tensor(max_val).to(device)[torch.newaxis]\n",
      "/home/sander/dev/deepreach/utils/boundary_functions.py:22: UserWarning: To copy construct from a tensor, it is recommended to use sourceTensor.clone().detach() or sourceTensor.clone().detach().requires_grad_(True), rather than torch.tensor(sourceTensor).\n",
      "  self.center = torch.tensor(center).to(device)[torch.newaxis]\n",
      "/home/sander/dev/deepreach/utils/boundary_functions.py:32: UserWarning: To copy construct from a tensor, it is recommended to use sourceTensor.clone().detach() or sourceTensor.clone().detach().requires_grad_(True), rather than torch.tensor(sourceTensor).\n",
      "  self.min_val = torch.tensor(min_val).to(device)[torch.newaxis]\n",
      "/home/sander/dev/deepreach/utils/boundary_functions.py:33: UserWarning: To copy construct from a tensor, it is recommended to use sourceTensor.clone().detach() or sourceTensor.clone().detach().requires_grad_(True), rather than torch.tensor(sourceTensor).\n",
      "  self.max_val = torch.tensor(max_val).to(device)[torch.newaxis]\n"
     ]
    }
   ],
   "source": [
    "dynamics = Quad2DAttitude(9.81, 0.75, 5.0, 15.0)"
   ]
  },
  {
   "cell_type": "code",
   "execution_count": 5,
   "metadata": {},
   "outputs": [],
   "source": [
    "dynamics_hjr = Quad2DAttitude_hjr(dynamics, 9.81, 0.75, 5.0, 15.0)"
   ]
  },
  {
   "cell_type": "code",
   "execution_count": 6,
   "metadata": {},
   "outputs": [],
   "source": [
    "state_test_range = t2j(dynamics_hjr.torch_dynamics.state_bounds)"
   ]
  },
  {
   "cell_type": "code",
   "execution_count": 7,
   "metadata": {},
   "outputs": [],
   "source": [
    "state_domain = hj.sets.Box(lo=state_test_range[:, 0], hi=state_test_range[:, 1])\n",
    "grid_resolution = tuple([51]) * state_test_range.shape[0]"
   ]
  },
  {
   "cell_type": "code",
   "execution_count": 8,
   "metadata": {},
   "outputs": [],
   "source": [
    "grid = hj.Grid.from_lattice_parameters_and_boundary_conditions(state_domain, grid_resolution)"
   ]
  },
  {
   "cell_type": "code",
   "execution_count": 9,
   "metadata": {},
   "outputs": [],
   "source": [
    "from utils import boundary_functions\n",
    "space_boundary = boundary_functions.BoundaryJAX([0, 1, 2, 3], jnp.array([-4.5, 0.0, -3.0, -3.0]), \n",
    "                                            jnp.array([4.5, 2.5, 3.0, 3.0]))\n",
    "circle = boundary_functions.CircleJAX([0, 1], 0.5, jnp.array([2.0, 1.5]))\n",
    "rectangle = boundary_functions.RectangleJAX([0, 1], jnp.array([-2.0, 0.5]), jnp.array([-1.0, 1.5]))\n",
    "sdf_function = boundary_functions.build_sdf_jax(space_boundary, [circle, rectangle])\n",
    "sdf_values = hj.utils.multivmap(sdf_function, jnp.arange(grid.ndim))(grid.states).squeeze()\n",
    "backwards_reachable_tube = lambda obstacle: (lambda t, x: jnp.minimum(x, obstacle))\n",
    "solver_settings = hj.SolverSettings.with_accuracy(\"very_high\", \n",
    "                                                  value_postprocessor=backwards_reachable_tube(sdf_values))"
   ]
  },
  {
   "cell_type": "code",
   "execution_count": 10,
   "metadata": {},
   "outputs": [],
   "source": [
    "min_time = 0.0\n",
    "max_time = -1.0\n",
    "times = jnp.linspace(min_time, max_time, 5)"
   ]
  },
  {
   "cell_type": "code",
   "execution_count": 11,
   "metadata": {},
   "outputs": [],
   "source": [
    "values = hj.solve(solver_settings, dynamics_hjr, grid, times, sdf_values, progress_bar=False)"
   ]
  },
  {
   "cell_type": "code",
   "execution_count": 12,
   "metadata": {},
   "outputs": [
    {
     "data": {
      "text/plain": [
       "(5, 51, 51, 51, 51)"
      ]
     },
     "execution_count": 12,
     "metadata": {},
     "output_type": "execute_result"
    }
   ],
   "source": [
    "values.shape"
   ]
  },
  {
   "cell_type": "code",
   "execution_count": 13,
   "metadata": {},
   "outputs": [],
   "source": [
    "import matplotlib.pyplot as plt"
   ]
  },
  {
   "cell_type": "code",
   "execution_count": 14,
   "metadata": {},
   "outputs": [],
   "source": [
    "plt.contourf(grid.coordinate_vectors[0], grid.coordinate_vectors[1], values[0][:,:,25,25])"
   ]
  }
 ],
 "metadata": {
  "kernelspec": {
   "display_name": "deepreach",
   "language": "python",
   "name": "python3"
  },
  "language_info": {
   "codemirror_mode": {
    "name": "ipython",
    "version": 3
   },
   "file_extension": ".py",
   "mimetype": "text/x-python",
   "name": "python",
   "nbconvert_exporter": "python",
   "pygments_lexer": "ipython3",
   "version": "3.11.9"
  }
 },
 "nbformat": 4,
 "nbformat_minor": 2
}
